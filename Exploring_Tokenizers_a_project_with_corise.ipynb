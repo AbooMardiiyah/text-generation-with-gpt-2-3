{
  "nbformat": 4,
  "nbformat_minor": 0,
  "metadata": {
    "colab": {
      "provenance": [],
      "collapsed_sections": [],
      "include_colab_link": true
    },
    "kernelspec": {
      "name": "python3",
      "display_name": "Python 3"
    },
    "language_info": {
      "name": "python"
    },
    "accelerator": "GPU",
    "gpuClass": "standard",
    "widgets": {
      "application/vnd.jupyter.widget-state+json": {
        "ed1b7540d22e4d5ca9ba88afb73dd557": {
          "model_module": "@jupyter-widgets/controls",
          "model_name": "HBoxModel",
          "model_module_version": "1.5.0",
          "state": {
            "_dom_classes": [],
            "_model_module": "@jupyter-widgets/controls",
            "_model_module_version": "1.5.0",
            "_model_name": "HBoxModel",
            "_view_count": null,
            "_view_module": "@jupyter-widgets/controls",
            "_view_module_version": "1.5.0",
            "_view_name": "HBoxView",
            "box_style": "",
            "children": [
              "IPY_MODEL_3c425dd2712e46d7a2f8e9bb7bfb348d",
              "IPY_MODEL_1f16d7f45b8a4d37b6918d1875c52f2d",
              "IPY_MODEL_c889491597584e07a73792ffef03b179"
            ],
            "layout": "IPY_MODEL_bfaa41c88ecd4091b6742aef68e5c7b4"
          }
        },
        "3c425dd2712e46d7a2f8e9bb7bfb348d": {
          "model_module": "@jupyter-widgets/controls",
          "model_name": "HTMLModel",
          "model_module_version": "1.5.0",
          "state": {
            "_dom_classes": [],
            "_model_module": "@jupyter-widgets/controls",
            "_model_module_version": "1.5.0",
            "_model_name": "HTMLModel",
            "_view_count": null,
            "_view_module": "@jupyter-widgets/controls",
            "_view_module_version": "1.5.0",
            "_view_name": "HTMLView",
            "description": "",
            "description_tooltip": null,
            "layout": "IPY_MODEL_e70838d59927400691bdf9d0bcfbce60",
            "placeholder": "​",
            "style": "IPY_MODEL_58974d1e41164a308b9fca31ae5d2de8",
            "value": "Downloading vocab.txt: 100%"
          }
        },
        "1f16d7f45b8a4d37b6918d1875c52f2d": {
          "model_module": "@jupyter-widgets/controls",
          "model_name": "FloatProgressModel",
          "model_module_version": "1.5.0",
          "state": {
            "_dom_classes": [],
            "_model_module": "@jupyter-widgets/controls",
            "_model_module_version": "1.5.0",
            "_model_name": "FloatProgressModel",
            "_view_count": null,
            "_view_module": "@jupyter-widgets/controls",
            "_view_module_version": "1.5.0",
            "_view_name": "ProgressView",
            "bar_style": "success",
            "description": "",
            "description_tooltip": null,
            "layout": "IPY_MODEL_69c1f42e22d84b6bad1a95b29ad15983",
            "max": 231508,
            "min": 0,
            "orientation": "horizontal",
            "style": "IPY_MODEL_0d7e9c61cc244de593e1bb61b1d25415",
            "value": 231508
          }
        },
        "c889491597584e07a73792ffef03b179": {
          "model_module": "@jupyter-widgets/controls",
          "model_name": "HTMLModel",
          "model_module_version": "1.5.0",
          "state": {
            "_dom_classes": [],
            "_model_module": "@jupyter-widgets/controls",
            "_model_module_version": "1.5.0",
            "_model_name": "HTMLModel",
            "_view_count": null,
            "_view_module": "@jupyter-widgets/controls",
            "_view_module_version": "1.5.0",
            "_view_name": "HTMLView",
            "description": "",
            "description_tooltip": null,
            "layout": "IPY_MODEL_95778dcc16ad49318e5fc0e2a0bfb4fa",
            "placeholder": "​",
            "style": "IPY_MODEL_ed3cb8d693db48fb9110f033d16cbdf6",
            "value": " 226k/226k [00:00&lt;00:00, 1.10MB/s]"
          }
        },
        "bfaa41c88ecd4091b6742aef68e5c7b4": {
          "model_module": "@jupyter-widgets/base",
          "model_name": "LayoutModel",
          "model_module_version": "1.2.0",
          "state": {
            "_model_module": "@jupyter-widgets/base",
            "_model_module_version": "1.2.0",
            "_model_name": "LayoutModel",
            "_view_count": null,
            "_view_module": "@jupyter-widgets/base",
            "_view_module_version": "1.2.0",
            "_view_name": "LayoutView",
            "align_content": null,
            "align_items": null,
            "align_self": null,
            "border": null,
            "bottom": null,
            "display": null,
            "flex": null,
            "flex_flow": null,
            "grid_area": null,
            "grid_auto_columns": null,
            "grid_auto_flow": null,
            "grid_auto_rows": null,
            "grid_column": null,
            "grid_gap": null,
            "grid_row": null,
            "grid_template_areas": null,
            "grid_template_columns": null,
            "grid_template_rows": null,
            "height": null,
            "justify_content": null,
            "justify_items": null,
            "left": null,
            "margin": null,
            "max_height": null,
            "max_width": null,
            "min_height": null,
            "min_width": null,
            "object_fit": null,
            "object_position": null,
            "order": null,
            "overflow": null,
            "overflow_x": null,
            "overflow_y": null,
            "padding": null,
            "right": null,
            "top": null,
            "visibility": null,
            "width": null
          }
        },
        "e70838d59927400691bdf9d0bcfbce60": {
          "model_module": "@jupyter-widgets/base",
          "model_name": "LayoutModel",
          "model_module_version": "1.2.0",
          "state": {
            "_model_module": "@jupyter-widgets/base",
            "_model_module_version": "1.2.0",
            "_model_name": "LayoutModel",
            "_view_count": null,
            "_view_module": "@jupyter-widgets/base",
            "_view_module_version": "1.2.0",
            "_view_name": "LayoutView",
            "align_content": null,
            "align_items": null,
            "align_self": null,
            "border": null,
            "bottom": null,
            "display": null,
            "flex": null,
            "flex_flow": null,
            "grid_area": null,
            "grid_auto_columns": null,
            "grid_auto_flow": null,
            "grid_auto_rows": null,
            "grid_column": null,
            "grid_gap": null,
            "grid_row": null,
            "grid_template_areas": null,
            "grid_template_columns": null,
            "grid_template_rows": null,
            "height": null,
            "justify_content": null,
            "justify_items": null,
            "left": null,
            "margin": null,
            "max_height": null,
            "max_width": null,
            "min_height": null,
            "min_width": null,
            "object_fit": null,
            "object_position": null,
            "order": null,
            "overflow": null,
            "overflow_x": null,
            "overflow_y": null,
            "padding": null,
            "right": null,
            "top": null,
            "visibility": null,
            "width": null
          }
        },
        "58974d1e41164a308b9fca31ae5d2de8": {
          "model_module": "@jupyter-widgets/controls",
          "model_name": "DescriptionStyleModel",
          "model_module_version": "1.5.0",
          "state": {
            "_model_module": "@jupyter-widgets/controls",
            "_model_module_version": "1.5.0",
            "_model_name": "DescriptionStyleModel",
            "_view_count": null,
            "_view_module": "@jupyter-widgets/base",
            "_view_module_version": "1.2.0",
            "_view_name": "StyleView",
            "description_width": ""
          }
        },
        "69c1f42e22d84b6bad1a95b29ad15983": {
          "model_module": "@jupyter-widgets/base",
          "model_name": "LayoutModel",
          "model_module_version": "1.2.0",
          "state": {
            "_model_module": "@jupyter-widgets/base",
            "_model_module_version": "1.2.0",
            "_model_name": "LayoutModel",
            "_view_count": null,
            "_view_module": "@jupyter-widgets/base",
            "_view_module_version": "1.2.0",
            "_view_name": "LayoutView",
            "align_content": null,
            "align_items": null,
            "align_self": null,
            "border": null,
            "bottom": null,
            "display": null,
            "flex": null,
            "flex_flow": null,
            "grid_area": null,
            "grid_auto_columns": null,
            "grid_auto_flow": null,
            "grid_auto_rows": null,
            "grid_column": null,
            "grid_gap": null,
            "grid_row": null,
            "grid_template_areas": null,
            "grid_template_columns": null,
            "grid_template_rows": null,
            "height": null,
            "justify_content": null,
            "justify_items": null,
            "left": null,
            "margin": null,
            "max_height": null,
            "max_width": null,
            "min_height": null,
            "min_width": null,
            "object_fit": null,
            "object_position": null,
            "order": null,
            "overflow": null,
            "overflow_x": null,
            "overflow_y": null,
            "padding": null,
            "right": null,
            "top": null,
            "visibility": null,
            "width": null
          }
        },
        "0d7e9c61cc244de593e1bb61b1d25415": {
          "model_module": "@jupyter-widgets/controls",
          "model_name": "ProgressStyleModel",
          "model_module_version": "1.5.0",
          "state": {
            "_model_module": "@jupyter-widgets/controls",
            "_model_module_version": "1.5.0",
            "_model_name": "ProgressStyleModel",
            "_view_count": null,
            "_view_module": "@jupyter-widgets/base",
            "_view_module_version": "1.2.0",
            "_view_name": "StyleView",
            "bar_color": null,
            "description_width": ""
          }
        },
        "95778dcc16ad49318e5fc0e2a0bfb4fa": {
          "model_module": "@jupyter-widgets/base",
          "model_name": "LayoutModel",
          "model_module_version": "1.2.0",
          "state": {
            "_model_module": "@jupyter-widgets/base",
            "_model_module_version": "1.2.0",
            "_model_name": "LayoutModel",
            "_view_count": null,
            "_view_module": "@jupyter-widgets/base",
            "_view_module_version": "1.2.0",
            "_view_name": "LayoutView",
            "align_content": null,
            "align_items": null,
            "align_self": null,
            "border": null,
            "bottom": null,
            "display": null,
            "flex": null,
            "flex_flow": null,
            "grid_area": null,
            "grid_auto_columns": null,
            "grid_auto_flow": null,
            "grid_auto_rows": null,
            "grid_column": null,
            "grid_gap": null,
            "grid_row": null,
            "grid_template_areas": null,
            "grid_template_columns": null,
            "grid_template_rows": null,
            "height": null,
            "justify_content": null,
            "justify_items": null,
            "left": null,
            "margin": null,
            "max_height": null,
            "max_width": null,
            "min_height": null,
            "min_width": null,
            "object_fit": null,
            "object_position": null,
            "order": null,
            "overflow": null,
            "overflow_x": null,
            "overflow_y": null,
            "padding": null,
            "right": null,
            "top": null,
            "visibility": null,
            "width": null
          }
        },
        "ed3cb8d693db48fb9110f033d16cbdf6": {
          "model_module": "@jupyter-widgets/controls",
          "model_name": "DescriptionStyleModel",
          "model_module_version": "1.5.0",
          "state": {
            "_model_module": "@jupyter-widgets/controls",
            "_model_module_version": "1.5.0",
            "_model_name": "DescriptionStyleModel",
            "_view_count": null,
            "_view_module": "@jupyter-widgets/base",
            "_view_module_version": "1.2.0",
            "_view_name": "StyleView",
            "description_width": ""
          }
        },
        "53969b5bb6d64e3fac244945d518ce1b": {
          "model_module": "@jupyter-widgets/controls",
          "model_name": "HBoxModel",
          "model_module_version": "1.5.0",
          "state": {
            "_dom_classes": [],
            "_model_module": "@jupyter-widgets/controls",
            "_model_module_version": "1.5.0",
            "_model_name": "HBoxModel",
            "_view_count": null,
            "_view_module": "@jupyter-widgets/controls",
            "_view_module_version": "1.5.0",
            "_view_name": "HBoxView",
            "box_style": "",
            "children": [
              "IPY_MODEL_ffe2119695ab40788dce58c6e5054c12",
              "IPY_MODEL_2e1f68bccd734000adde494e91857f8b",
              "IPY_MODEL_116e4eb461d74c8184cb1f1644f34c22"
            ],
            "layout": "IPY_MODEL_a82d5d4a54634d1f9e7d4787a15f4951"
          }
        },
        "ffe2119695ab40788dce58c6e5054c12": {
          "model_module": "@jupyter-widgets/controls",
          "model_name": "HTMLModel",
          "model_module_version": "1.5.0",
          "state": {
            "_dom_classes": [],
            "_model_module": "@jupyter-widgets/controls",
            "_model_module_version": "1.5.0",
            "_model_name": "HTMLModel",
            "_view_count": null,
            "_view_module": "@jupyter-widgets/controls",
            "_view_module_version": "1.5.0",
            "_view_name": "HTMLView",
            "description": "",
            "description_tooltip": null,
            "layout": "IPY_MODEL_e1eb07950c854bfb875be649eed0a8a7",
            "placeholder": "​",
            "style": "IPY_MODEL_cd9477b7504b44c2a201fb25344b95d5",
            "value": "Downloading tokenizer_config.json: 100%"
          }
        },
        "2e1f68bccd734000adde494e91857f8b": {
          "model_module": "@jupyter-widgets/controls",
          "model_name": "FloatProgressModel",
          "model_module_version": "1.5.0",
          "state": {
            "_dom_classes": [],
            "_model_module": "@jupyter-widgets/controls",
            "_model_module_version": "1.5.0",
            "_model_name": "FloatProgressModel",
            "_view_count": null,
            "_view_module": "@jupyter-widgets/controls",
            "_view_module_version": "1.5.0",
            "_view_name": "ProgressView",
            "bar_style": "success",
            "description": "",
            "description_tooltip": null,
            "layout": "IPY_MODEL_483ff8e56b0e420f82e61ebaa7fd1f9f",
            "max": 28,
            "min": 0,
            "orientation": "horizontal",
            "style": "IPY_MODEL_7182f3e566924a1eaa50b5249c238a18",
            "value": 28
          }
        },
        "116e4eb461d74c8184cb1f1644f34c22": {
          "model_module": "@jupyter-widgets/controls",
          "model_name": "HTMLModel",
          "model_module_version": "1.5.0",
          "state": {
            "_dom_classes": [],
            "_model_module": "@jupyter-widgets/controls",
            "_model_module_version": "1.5.0",
            "_model_name": "HTMLModel",
            "_view_count": null,
            "_view_module": "@jupyter-widgets/controls",
            "_view_module_version": "1.5.0",
            "_view_name": "HTMLView",
            "description": "",
            "description_tooltip": null,
            "layout": "IPY_MODEL_c294f91a54a746cb96e8d694e10043cb",
            "placeholder": "​",
            "style": "IPY_MODEL_53aae2e4571a4b07ade34383683b18dd",
            "value": " 28.0/28.0 [00:00&lt;00:00, 774B/s]"
          }
        },
        "a82d5d4a54634d1f9e7d4787a15f4951": {
          "model_module": "@jupyter-widgets/base",
          "model_name": "LayoutModel",
          "model_module_version": "1.2.0",
          "state": {
            "_model_module": "@jupyter-widgets/base",
            "_model_module_version": "1.2.0",
            "_model_name": "LayoutModel",
            "_view_count": null,
            "_view_module": "@jupyter-widgets/base",
            "_view_module_version": "1.2.0",
            "_view_name": "LayoutView",
            "align_content": null,
            "align_items": null,
            "align_self": null,
            "border": null,
            "bottom": null,
            "display": null,
            "flex": null,
            "flex_flow": null,
            "grid_area": null,
            "grid_auto_columns": null,
            "grid_auto_flow": null,
            "grid_auto_rows": null,
            "grid_column": null,
            "grid_gap": null,
            "grid_row": null,
            "grid_template_areas": null,
            "grid_template_columns": null,
            "grid_template_rows": null,
            "height": null,
            "justify_content": null,
            "justify_items": null,
            "left": null,
            "margin": null,
            "max_height": null,
            "max_width": null,
            "min_height": null,
            "min_width": null,
            "object_fit": null,
            "object_position": null,
            "order": null,
            "overflow": null,
            "overflow_x": null,
            "overflow_y": null,
            "padding": null,
            "right": null,
            "top": null,
            "visibility": null,
            "width": null
          }
        },
        "e1eb07950c854bfb875be649eed0a8a7": {
          "model_module": "@jupyter-widgets/base",
          "model_name": "LayoutModel",
          "model_module_version": "1.2.0",
          "state": {
            "_model_module": "@jupyter-widgets/base",
            "_model_module_version": "1.2.0",
            "_model_name": "LayoutModel",
            "_view_count": null,
            "_view_module": "@jupyter-widgets/base",
            "_view_module_version": "1.2.0",
            "_view_name": "LayoutView",
            "align_content": null,
            "align_items": null,
            "align_self": null,
            "border": null,
            "bottom": null,
            "display": null,
            "flex": null,
            "flex_flow": null,
            "grid_area": null,
            "grid_auto_columns": null,
            "grid_auto_flow": null,
            "grid_auto_rows": null,
            "grid_column": null,
            "grid_gap": null,
            "grid_row": null,
            "grid_template_areas": null,
            "grid_template_columns": null,
            "grid_template_rows": null,
            "height": null,
            "justify_content": null,
            "justify_items": null,
            "left": null,
            "margin": null,
            "max_height": null,
            "max_width": null,
            "min_height": null,
            "min_width": null,
            "object_fit": null,
            "object_position": null,
            "order": null,
            "overflow": null,
            "overflow_x": null,
            "overflow_y": null,
            "padding": null,
            "right": null,
            "top": null,
            "visibility": null,
            "width": null
          }
        },
        "cd9477b7504b44c2a201fb25344b95d5": {
          "model_module": "@jupyter-widgets/controls",
          "model_name": "DescriptionStyleModel",
          "model_module_version": "1.5.0",
          "state": {
            "_model_module": "@jupyter-widgets/controls",
            "_model_module_version": "1.5.0",
            "_model_name": "DescriptionStyleModel",
            "_view_count": null,
            "_view_module": "@jupyter-widgets/base",
            "_view_module_version": "1.2.0",
            "_view_name": "StyleView",
            "description_width": ""
          }
        },
        "483ff8e56b0e420f82e61ebaa7fd1f9f": {
          "model_module": "@jupyter-widgets/base",
          "model_name": "LayoutModel",
          "model_module_version": "1.2.0",
          "state": {
            "_model_module": "@jupyter-widgets/base",
            "_model_module_version": "1.2.0",
            "_model_name": "LayoutModel",
            "_view_count": null,
            "_view_module": "@jupyter-widgets/base",
            "_view_module_version": "1.2.0",
            "_view_name": "LayoutView",
            "align_content": null,
            "align_items": null,
            "align_self": null,
            "border": null,
            "bottom": null,
            "display": null,
            "flex": null,
            "flex_flow": null,
            "grid_area": null,
            "grid_auto_columns": null,
            "grid_auto_flow": null,
            "grid_auto_rows": null,
            "grid_column": null,
            "grid_gap": null,
            "grid_row": null,
            "grid_template_areas": null,
            "grid_template_columns": null,
            "grid_template_rows": null,
            "height": null,
            "justify_content": null,
            "justify_items": null,
            "left": null,
            "margin": null,
            "max_height": null,
            "max_width": null,
            "min_height": null,
            "min_width": null,
            "object_fit": null,
            "object_position": null,
            "order": null,
            "overflow": null,
            "overflow_x": null,
            "overflow_y": null,
            "padding": null,
            "right": null,
            "top": null,
            "visibility": null,
            "width": null
          }
        },
        "7182f3e566924a1eaa50b5249c238a18": {
          "model_module": "@jupyter-widgets/controls",
          "model_name": "ProgressStyleModel",
          "model_module_version": "1.5.0",
          "state": {
            "_model_module": "@jupyter-widgets/controls",
            "_model_module_version": "1.5.0",
            "_model_name": "ProgressStyleModel",
            "_view_count": null,
            "_view_module": "@jupyter-widgets/base",
            "_view_module_version": "1.2.0",
            "_view_name": "StyleView",
            "bar_color": null,
            "description_width": ""
          }
        },
        "c294f91a54a746cb96e8d694e10043cb": {
          "model_module": "@jupyter-widgets/base",
          "model_name": "LayoutModel",
          "model_module_version": "1.2.0",
          "state": {
            "_model_module": "@jupyter-widgets/base",
            "_model_module_version": "1.2.0",
            "_model_name": "LayoutModel",
            "_view_count": null,
            "_view_module": "@jupyter-widgets/base",
            "_view_module_version": "1.2.0",
            "_view_name": "LayoutView",
            "align_content": null,
            "align_items": null,
            "align_self": null,
            "border": null,
            "bottom": null,
            "display": null,
            "flex": null,
            "flex_flow": null,
            "grid_area": null,
            "grid_auto_columns": null,
            "grid_auto_flow": null,
            "grid_auto_rows": null,
            "grid_column": null,
            "grid_gap": null,
            "grid_row": null,
            "grid_template_areas": null,
            "grid_template_columns": null,
            "grid_template_rows": null,
            "height": null,
            "justify_content": null,
            "justify_items": null,
            "left": null,
            "margin": null,
            "max_height": null,
            "max_width": null,
            "min_height": null,
            "min_width": null,
            "object_fit": null,
            "object_position": null,
            "order": null,
            "overflow": null,
            "overflow_x": null,
            "overflow_y": null,
            "padding": null,
            "right": null,
            "top": null,
            "visibility": null,
            "width": null
          }
        },
        "53aae2e4571a4b07ade34383683b18dd": {
          "model_module": "@jupyter-widgets/controls",
          "model_name": "DescriptionStyleModel",
          "model_module_version": "1.5.0",
          "state": {
            "_model_module": "@jupyter-widgets/controls",
            "_model_module_version": "1.5.0",
            "_model_name": "DescriptionStyleModel",
            "_view_count": null,
            "_view_module": "@jupyter-widgets/base",
            "_view_module_version": "1.2.0",
            "_view_name": "StyleView",
            "description_width": ""
          }
        },
        "0e16cd58bee249bc80241d27a777cd66": {
          "model_module": "@jupyter-widgets/controls",
          "model_name": "HBoxModel",
          "model_module_version": "1.5.0",
          "state": {
            "_dom_classes": [],
            "_model_module": "@jupyter-widgets/controls",
            "_model_module_version": "1.5.0",
            "_model_name": "HBoxModel",
            "_view_count": null,
            "_view_module": "@jupyter-widgets/controls",
            "_view_module_version": "1.5.0",
            "_view_name": "HBoxView",
            "box_style": "",
            "children": [
              "IPY_MODEL_9675f8ff60f64e7299dfafbc893ee4c4",
              "IPY_MODEL_9d6ecc4b99cf485bb8b97bf8039808fd",
              "IPY_MODEL_5df30cc2bbf44230bd882a3962e4125b"
            ],
            "layout": "IPY_MODEL_69764f368be74a48a14624af0d985088"
          }
        },
        "9675f8ff60f64e7299dfafbc893ee4c4": {
          "model_module": "@jupyter-widgets/controls",
          "model_name": "HTMLModel",
          "model_module_version": "1.5.0",
          "state": {
            "_dom_classes": [],
            "_model_module": "@jupyter-widgets/controls",
            "_model_module_version": "1.5.0",
            "_model_name": "HTMLModel",
            "_view_count": null,
            "_view_module": "@jupyter-widgets/controls",
            "_view_module_version": "1.5.0",
            "_view_name": "HTMLView",
            "description": "",
            "description_tooltip": null,
            "layout": "IPY_MODEL_7c32cbc980f541098473e4f3c46dbad6",
            "placeholder": "​",
            "style": "IPY_MODEL_ee6d47a6444f4df2994e0b413dd90410",
            "value": "Downloading config.json: 100%"
          }
        },
        "9d6ecc4b99cf485bb8b97bf8039808fd": {
          "model_module": "@jupyter-widgets/controls",
          "model_name": "FloatProgressModel",
          "model_module_version": "1.5.0",
          "state": {
            "_dom_classes": [],
            "_model_module": "@jupyter-widgets/controls",
            "_model_module_version": "1.5.0",
            "_model_name": "FloatProgressModel",
            "_view_count": null,
            "_view_module": "@jupyter-widgets/controls",
            "_view_module_version": "1.5.0",
            "_view_name": "ProgressView",
            "bar_style": "success",
            "description": "",
            "description_tooltip": null,
            "layout": "IPY_MODEL_12064a3446074c7699c6aad032cf4c28",
            "max": 570,
            "min": 0,
            "orientation": "horizontal",
            "style": "IPY_MODEL_01b688a9bd2548799654512192921873",
            "value": 570
          }
        },
        "5df30cc2bbf44230bd882a3962e4125b": {
          "model_module": "@jupyter-widgets/controls",
          "model_name": "HTMLModel",
          "model_module_version": "1.5.0",
          "state": {
            "_dom_classes": [],
            "_model_module": "@jupyter-widgets/controls",
            "_model_module_version": "1.5.0",
            "_model_name": "HTMLModel",
            "_view_count": null,
            "_view_module": "@jupyter-widgets/controls",
            "_view_module_version": "1.5.0",
            "_view_name": "HTMLView",
            "description": "",
            "description_tooltip": null,
            "layout": "IPY_MODEL_eef213b45aa542afb7bb66fd7f3fe83f",
            "placeholder": "​",
            "style": "IPY_MODEL_e24d48347acb4c4f821fe1c276f4e858",
            "value": " 570/570 [00:00&lt;00:00, 13.6kB/s]"
          }
        },
        "69764f368be74a48a14624af0d985088": {
          "model_module": "@jupyter-widgets/base",
          "model_name": "LayoutModel",
          "model_module_version": "1.2.0",
          "state": {
            "_model_module": "@jupyter-widgets/base",
            "_model_module_version": "1.2.0",
            "_model_name": "LayoutModel",
            "_view_count": null,
            "_view_module": "@jupyter-widgets/base",
            "_view_module_version": "1.2.0",
            "_view_name": "LayoutView",
            "align_content": null,
            "align_items": null,
            "align_self": null,
            "border": null,
            "bottom": null,
            "display": null,
            "flex": null,
            "flex_flow": null,
            "grid_area": null,
            "grid_auto_columns": null,
            "grid_auto_flow": null,
            "grid_auto_rows": null,
            "grid_column": null,
            "grid_gap": null,
            "grid_row": null,
            "grid_template_areas": null,
            "grid_template_columns": null,
            "grid_template_rows": null,
            "height": null,
            "justify_content": null,
            "justify_items": null,
            "left": null,
            "margin": null,
            "max_height": null,
            "max_width": null,
            "min_height": null,
            "min_width": null,
            "object_fit": null,
            "object_position": null,
            "order": null,
            "overflow": null,
            "overflow_x": null,
            "overflow_y": null,
            "padding": null,
            "right": null,
            "top": null,
            "visibility": null,
            "width": null
          }
        },
        "7c32cbc980f541098473e4f3c46dbad6": {
          "model_module": "@jupyter-widgets/base",
          "model_name": "LayoutModel",
          "model_module_version": "1.2.0",
          "state": {
            "_model_module": "@jupyter-widgets/base",
            "_model_module_version": "1.2.0",
            "_model_name": "LayoutModel",
            "_view_count": null,
            "_view_module": "@jupyter-widgets/base",
            "_view_module_version": "1.2.0",
            "_view_name": "LayoutView",
            "align_content": null,
            "align_items": null,
            "align_self": null,
            "border": null,
            "bottom": null,
            "display": null,
            "flex": null,
            "flex_flow": null,
            "grid_area": null,
            "grid_auto_columns": null,
            "grid_auto_flow": null,
            "grid_auto_rows": null,
            "grid_column": null,
            "grid_gap": null,
            "grid_row": null,
            "grid_template_areas": null,
            "grid_template_columns": null,
            "grid_template_rows": null,
            "height": null,
            "justify_content": null,
            "justify_items": null,
            "left": null,
            "margin": null,
            "max_height": null,
            "max_width": null,
            "min_height": null,
            "min_width": null,
            "object_fit": null,
            "object_position": null,
            "order": null,
            "overflow": null,
            "overflow_x": null,
            "overflow_y": null,
            "padding": null,
            "right": null,
            "top": null,
            "visibility": null,
            "width": null
          }
        },
        "ee6d47a6444f4df2994e0b413dd90410": {
          "model_module": "@jupyter-widgets/controls",
          "model_name": "DescriptionStyleModel",
          "model_module_version": "1.5.0",
          "state": {
            "_model_module": "@jupyter-widgets/controls",
            "_model_module_version": "1.5.0",
            "_model_name": "DescriptionStyleModel",
            "_view_count": null,
            "_view_module": "@jupyter-widgets/base",
            "_view_module_version": "1.2.0",
            "_view_name": "StyleView",
            "description_width": ""
          }
        },
        "12064a3446074c7699c6aad032cf4c28": {
          "model_module": "@jupyter-widgets/base",
          "model_name": "LayoutModel",
          "model_module_version": "1.2.0",
          "state": {
            "_model_module": "@jupyter-widgets/base",
            "_model_module_version": "1.2.0",
            "_model_name": "LayoutModel",
            "_view_count": null,
            "_view_module": "@jupyter-widgets/base",
            "_view_module_version": "1.2.0",
            "_view_name": "LayoutView",
            "align_content": null,
            "align_items": null,
            "align_self": null,
            "border": null,
            "bottom": null,
            "display": null,
            "flex": null,
            "flex_flow": null,
            "grid_area": null,
            "grid_auto_columns": null,
            "grid_auto_flow": null,
            "grid_auto_rows": null,
            "grid_column": null,
            "grid_gap": null,
            "grid_row": null,
            "grid_template_areas": null,
            "grid_template_columns": null,
            "grid_template_rows": null,
            "height": null,
            "justify_content": null,
            "justify_items": null,
            "left": null,
            "margin": null,
            "max_height": null,
            "max_width": null,
            "min_height": null,
            "min_width": null,
            "object_fit": null,
            "object_position": null,
            "order": null,
            "overflow": null,
            "overflow_x": null,
            "overflow_y": null,
            "padding": null,
            "right": null,
            "top": null,
            "visibility": null,
            "width": null
          }
        },
        "01b688a9bd2548799654512192921873": {
          "model_module": "@jupyter-widgets/controls",
          "model_name": "ProgressStyleModel",
          "model_module_version": "1.5.0",
          "state": {
            "_model_module": "@jupyter-widgets/controls",
            "_model_module_version": "1.5.0",
            "_model_name": "ProgressStyleModel",
            "_view_count": null,
            "_view_module": "@jupyter-widgets/base",
            "_view_module_version": "1.2.0",
            "_view_name": "StyleView",
            "bar_color": null,
            "description_width": ""
          }
        },
        "eef213b45aa542afb7bb66fd7f3fe83f": {
          "model_module": "@jupyter-widgets/base",
          "model_name": "LayoutModel",
          "model_module_version": "1.2.0",
          "state": {
            "_model_module": "@jupyter-widgets/base",
            "_model_module_version": "1.2.0",
            "_model_name": "LayoutModel",
            "_view_count": null,
            "_view_module": "@jupyter-widgets/base",
            "_view_module_version": "1.2.0",
            "_view_name": "LayoutView",
            "align_content": null,
            "align_items": null,
            "align_self": null,
            "border": null,
            "bottom": null,
            "display": null,
            "flex": null,
            "flex_flow": null,
            "grid_area": null,
            "grid_auto_columns": null,
            "grid_auto_flow": null,
            "grid_auto_rows": null,
            "grid_column": null,
            "grid_gap": null,
            "grid_row": null,
            "grid_template_areas": null,
            "grid_template_columns": null,
            "grid_template_rows": null,
            "height": null,
            "justify_content": null,
            "justify_items": null,
            "left": null,
            "margin": null,
            "max_height": null,
            "max_width": null,
            "min_height": null,
            "min_width": null,
            "object_fit": null,
            "object_position": null,
            "order": null,
            "overflow": null,
            "overflow_x": null,
            "overflow_y": null,
            "padding": null,
            "right": null,
            "top": null,
            "visibility": null,
            "width": null
          }
        },
        "e24d48347acb4c4f821fe1c276f4e858": {
          "model_module": "@jupyter-widgets/controls",
          "model_name": "DescriptionStyleModel",
          "model_module_version": "1.5.0",
          "state": {
            "_model_module": "@jupyter-widgets/controls",
            "_model_module_version": "1.5.0",
            "_model_name": "DescriptionStyleModel",
            "_view_count": null,
            "_view_module": "@jupyter-widgets/base",
            "_view_module_version": "1.2.0",
            "_view_name": "StyleView",
            "description_width": ""
          }
        }
      }
    }
  },
  "cells": [
    {
      "cell_type": "markdown",
      "metadata": {
        "id": "view-in-github",
        "colab_type": "text"
      },
      "source": [
        "<a href=\"https://colab.research.google.com/github/AbooMardiiyah/text-generation-with-gpt-2-3/blob/main/Exploring_Tokenizers_a_project_with_corise.ipynb\" target=\"_parent\"><img src=\"https://colab.research.google.com/assets/colab-badge.svg\" alt=\"Open In Colab\"/></a>"
      ]
    },
    {
      "cell_type": "markdown",
      "metadata": {
        "id": "3z0emNvIe_n5"
      },
      "source": [
        "# Week 4: Tokenization\n",
        "\n",
        "### What we are building\n",
        "Tokenization is the task of chopping it up into pieces, called tokens. As you might have observed going through the projects in Week 1, vectorization and tokenization have a huge influence on the output of the exact same model.\n",
        "\n",
        "We will compare the different tokenizers for different sizes of vocabulary on Botchan a novel written by Natsume Sōseki in 1906. We'll see what percentage of vocabulary would be considered OOV (out-of-vocab) at different sizes.\n",
        "\n",
        "### Instructions\n",
        "\n",
        "1. We have provide scaffolding for all the different tokenizers and added an assert to make sure the output is same as expected.\n",
        "1. Most of the tokenizers are already somethings you've seen before so but we'll dive deeper into SentencePiece.\n",
        "\n",
        "### Code Overview\n",
        "\n",
        "- Dependencies: Install and import python dependencies\n",
        "- Tokenizers\n",
        "  - WhitespaceTokenizer\n",
        "  - CharacterTokenizer\n",
        "  - SpacyTokenizer\n",
        "  - BERTTokenizer\n",
        "  - SentencePieceTokenizer\n",
        "- Extensions\n"
      ]
    },
    {
      "cell_type": "markdown",
      "metadata": {
        "id": "y8zLCEfd7VKI"
      },
      "source": [
        "# Dependencies\n",
        "\n",
        "✨ Now let's get started! To kick things off, as always, we will install some dependencies."
      ]
    },
    {
      "cell_type": "code",
      "metadata": {
        "id": "1MmzNWDu3Sxy"
      },
      "source": [
        "%%capture\n",
        "# Install all the required dependencies for the project\n",
        "!pip install spacy --quiet\n",
        "!python -m spacy download en_core_web_md\n",
        "!pip install transformers\n",
        "!pip install sentencepiece"
      ],
      "execution_count": null,
      "outputs": []
    },
    {
      "cell_type": "markdown",
      "metadata": {
        "id": "OTWZJAqiBxEv"
      },
      "source": [
        "Import all the necessary libraries we need throughout the project.\n",
        "\n"
      ]
    },
    {
      "cell_type": "code",
      "metadata": {
        "id": "41Oy-47Jfkx4"
      },
      "source": [
        "# Import all the relevant libraries\n",
        "import re\n",
        "import en_core_web_md\n",
        "import sentencepiece as spm\n",
        "\n",
        "from collections import defaultdict\n",
        "from transformers import BertTokenizer"
      ],
      "execution_count": null,
      "outputs": []
    },
    {
      "cell_type": "markdown",
      "metadata": {
        "id": "IWE7zx6Wnria"
      },
      "source": [
        "Now let's load the Spacy data, which comes with pre-trainined embeddings. This process is expensive so only do it once."
      ]
    },
    {
      "cell_type": "code",
      "metadata": {
        "id": "8QZcvlY53PK2"
      },
      "source": [
        "loaded_spacy_model = en_core_web_md.load()"
      ],
      "execution_count": null,
      "outputs": []
    },
    {
      "cell_type": "markdown",
      "metadata": {
        "id": "SFcN6rKkCQiu"
      },
      "source": [
        "### Dataset\n",
        "\n",
        "Download the Botchan novel from [SentencePiece repository](https://raw.githubusercontent.com/google/sentencepiece/master/data/botchan.txt).\n"
      ]
    },
    {
      "cell_type": "code",
      "metadata": {
        "id": "OiSlP2uq3ywn",
        "colab": {
          "base_uri": "https://localhost:8080/"
        },
        "outputId": "e7bb5c25-2903-4d59-91b7-ff30a6b22851"
      },
      "source": [
        "!wget https://raw.githubusercontent.com/google/sentencepiece/master/data/botchan.txt\n",
        "\n",
        "lines = []\n",
        "with open('botchan.txt', 'r') as the_file:\n",
        "  lines = the_file.readlines()"
      ],
      "execution_count": null,
      "outputs": [
        {
          "output_type": "stream",
          "name": "stdout",
          "text": [
            "--2022-08-06 14:26:38--  https://raw.githubusercontent.com/google/sentencepiece/master/data/botchan.txt\n",
            "Resolving raw.githubusercontent.com (raw.githubusercontent.com)... 185.199.108.133, 185.199.109.133, 185.199.110.133, ...\n",
            "Connecting to raw.githubusercontent.com (raw.githubusercontent.com)|185.199.108.133|:443... connected.\n",
            "HTTP request sent, awaiting response... 200 OK\n",
            "Length: 278779 (272K) [text/plain]\n",
            "Saving to: ‘botchan.txt’\n",
            "\n",
            "\rbotchan.txt           0%[                    ]       0  --.-KB/s               \rbotchan.txt         100%[===================>] 272.25K  --.-KB/s    in 0.03s   \n",
            "\n",
            "2022-08-06 14:26:39 (7.93 MB/s) - ‘botchan.txt’ saved [278779/278779]\n",
            "\n"
          ]
        }
      ]
    },
    {
      "cell_type": "markdown",
      "metadata": {
        "id": "Hmb43XRQHr3I"
      },
      "source": [
        "Constants for sample sentence and thresholds we'll be using throughout"
      ]
    },
    {
      "cell_type": "code",
      "metadata": {
        "id": "rmhZpupceurg"
      },
      "source": [
        "SAMPLE_SENTENCE = \"I'm learning NLP. Aren't my projects awesome?\"\n",
        "THRESHOLDS = [1000, 2000, 3000, 4000, 5000, 7500, 10000]"
      ],
      "execution_count": null,
      "outputs": []
    },
    {
      "cell_type": "markdown",
      "metadata": {
        "id": "6IFTsT43Hzb9"
      },
      "source": [
        "### Base Tokenizer class that implements the coverage report function"
      ]
    },
    {
      "cell_type": "code",
      "metadata": {
        "id": "-TYoyB3cBQqX"
      },
      "source": [
        "class Tokenizer:\n",
        "  def __init__(self, lines):\n",
        "    self.vocab_size = 0\n",
        "    token_dict = defaultdict(int)\n",
        "\n",
        "    for line in lines:\n",
        "      for token in self.tokenize(line):\n",
        "        self.vocab_size += 1\n",
        "        token_dict[token] += 1\n",
        "\n",
        "    self.token_counts = sorted(token_dict.items(), key=lambda x: x[1], reverse=True)\n",
        "\n",
        "  def tokenize(self, sentence):\n",
        "    raise ValueError(\"TO BE IMPLEMENTED\")\n",
        "\n",
        "  def coverage(self, threshold):\n",
        "    return sum([x[1] for x in self.token_counts[:threshold]]) / self.vocab_size\n",
        "\n",
        "  def coverage_report(self, thresholds):\n",
        "    # For each threshold print the percentage of coverage and OOV\n",
        "    for tv in thresholds:\n",
        "      coverage = self.coverage(tv) * 100\n",
        "      print(\"For vocab size: %d, coverage is: %.2f%% and oov is: %.2f%%\" % (tv, coverage, 100-coverage))"
      ],
      "execution_count": null,
      "outputs": []
    },
    {
      "cell_type": "markdown",
      "metadata": {
        "id": "9MOIayXJfBMG"
      },
      "source": [
        "## Assignment Part:1 - Whitespace based separators\n",
        "##### <font color='red'>Expected vocab: 1.000, coverage: 72.79%</font>\n",
        "##### <font color='red'>Expected vocab: 10.000, coverage: 99.43%</font>\n",
        "\n",
        "Tokenizer that splits the string sentences into tokens using  whitespace."
      ]
    },
    {
      "cell_type": "code",
      "metadata": {
        "id": "R__gkTBMH7fD",
        "colab": {
          "base_uri": "https://localhost:8080/"
        },
        "outputId": "d6518862-d143-4b3e-8cc7-0a93ee993407"
      },
      "source": [
        "class WhiteSpaceTokenizer(Tokenizer):\n",
        "  def tokenize(self, sentence):\n",
        "    ### TO BE IMPLEMENTED ###\n",
        "    output = sentence.split(\" \")\n",
        "    ### TO BE IMPLEMENTED ###\n",
        "    \n",
        "    return output\n",
        "\n",
        "white_space_tokenizer = WhiteSpaceTokenizer(lines)\n",
        "assert white_space_tokenizer.tokenize(SAMPLE_SENTENCE) == [\"I'm\", 'learning', 'NLP.', \"Aren't\", 'my', 'projects', 'awesome?']\n",
        "white_space_tokenizer.coverage_report(THRESHOLDS)"
      ],
      "execution_count": null,
      "outputs": [
        {
          "output_type": "stream",
          "name": "stdout",
          "text": [
            "For vocab size: 1000, coverage is: 72.79% and oov is: 27.21%\n",
            "For vocab size: 2000, coverage is: 80.11% and oov is: 19.89%\n",
            "For vocab size: 3000, coverage is: 84.41% and oov is: 15.59%\n",
            "For vocab size: 4000, coverage is: 87.66% and oov is: 12.34%\n",
            "For vocab size: 5000, coverage is: 89.62% and oov is: 10.38%\n",
            "For vocab size: 7500, coverage is: 94.52% and oov is: 5.48%\n",
            "For vocab size: 10000, coverage is: 99.43% and oov is: 0.57%\n"
          ]
        }
      ]
    },
    {
      "cell_type": "markdown",
      "metadata": {
        "id": "M6RKpXenfS2i"
      },
      "source": [
        "## Assignment Part:2 - Character based tokenizer\n",
        "##### <font color='red'>Expected vocab: 1.000, coverage: 100%</font>\n",
        "##### <font color='red'>Expected vocab: 10.000, coverage: 100%</font>\n",
        "\n",
        "Tokenizer that splits the string sentences into individual characters."
      ]
    },
    {
      "cell_type": "code",
      "metadata": {
        "id": "i5gy-81wIb9i",
        "colab": {
          "base_uri": "https://localhost:8080/"
        },
        "outputId": "7457d2bb-158c-484b-fc7d-ecfcda493814"
      },
      "source": [
        "class CharacterTokenizer(Tokenizer):\n",
        "  def tokenize(self, sentence):\n",
        "    ### TO BE IMPLEMENTED ###\n",
        "    output = [token for token in sentence]\n",
        "    ### TO BE IMPLEMENTED ###\n",
        "    \n",
        "    return output\n",
        "\n",
        "character_tokenizer = CharacterTokenizer(lines)\n",
        "assert character_tokenizer.tokenize(SAMPLE_SENTENCE) == ['I', \"'\", 'm', ' ', 'l', 'e', 'a', 'r', 'n', 'i', 'n', 'g', ' ', 'N', 'L', 'P', '.', ' ', 'A', 'r', 'e', 'n', \"'\", 't', ' ', 'm', 'y', ' ', 'p', 'r', 'o', 'j', 'e', 'c', 't', 's', ' ', 'a', 'w', 'e', 's', 'o', 'm', 'e', '?']\n",
        "character_tokenizer.coverage_report(THRESHOLDS)"
      ],
      "execution_count": null,
      "outputs": [
        {
          "output_type": "stream",
          "name": "stdout",
          "text": [
            "For vocab size: 1000, coverage is: 100.00% and oov is: 0.00%\n",
            "For vocab size: 2000, coverage is: 100.00% and oov is: 0.00%\n",
            "For vocab size: 3000, coverage is: 100.00% and oov is: 0.00%\n",
            "For vocab size: 4000, coverage is: 100.00% and oov is: 0.00%\n",
            "For vocab size: 5000, coverage is: 100.00% and oov is: 0.00%\n",
            "For vocab size: 7500, coverage is: 100.00% and oov is: 0.00%\n",
            "For vocab size: 10000, coverage is: 100.00% and oov is: 0.00%\n"
          ]
        }
      ]
    },
    {
      "cell_type": "markdown",
      "metadata": {
        "id": "OU9cpffoCOa7"
      },
      "source": [
        "## Assignment Part:3 - Spacy Tokenizer\n",
        "##### <font color='red'>Expected vocab: 1.000, coverage: 86%</font>\n",
        "##### <font color='red'>Expected vocab: 10.000, coverage: 100%</font>\n",
        "\n",
        "Tokenizer that splits the string sentences into individual tokens using the Spacy's built in tokenizer."
      ]
    },
    {
      "cell_type": "code",
      "metadata": {
        "id": "Glf0u_PNCScI",
        "colab": {
          "base_uri": "https://localhost:8080/"
        },
        "outputId": "d4ae5c78-292c-44fa-8170-707ee226ee4a"
      },
      "source": [
        "class SpacyTokenizer(Tokenizer):\n",
        "  def tokenize(self, sentence):\n",
        "    ### TO BE IMPLEMENTED ###\n",
        "    spacy_doc=loaded_spacy_model.make_doc(sentence)\n",
        "    # tokens=[tokens.text for tokens in spacy_doc]\n",
        "    output =[tokens.text for tokens in spacy_doc]\n",
        "    ### TO BE IMPLEMENTED ###\n",
        "    \n",
        "    return output\n",
        "\n",
        "spacy_tokenizer = SpacyTokenizer(lines)\n",
        "assert spacy_tokenizer.tokenize(SAMPLE_SENTENCE) == ['I', \"'m\", 'learning', 'NLP', '.', 'Are', \"n't\", 'my', 'projects', 'awesome', '?']\n",
        "spacy_tokenizer.coverage_report(THRESHOLDS)"
      ],
      "execution_count": null,
      "outputs": [
        {
          "output_type": "stream",
          "name": "stdout",
          "text": [
            "For vocab size: 1000, coverage is: 86.00% and oov is: 14.00%\n",
            "For vocab size: 2000, coverage is: 91.94% and oov is: 8.06%\n",
            "For vocab size: 3000, coverage is: 95.08% and oov is: 4.92%\n",
            "For vocab size: 4000, coverage is: 96.67% and oov is: 3.33%\n",
            "For vocab size: 5000, coverage is: 98.21% and oov is: 1.79%\n",
            "For vocab size: 7500, coverage is: 100.00% and oov is: 0.00%\n",
            "For vocab size: 10000, coverage is: 100.00% and oov is: 0.00%\n"
          ]
        }
      ]
    },
    {
      "cell_type": "markdown",
      "metadata": {
        "id": "-5OU-oomCs-0"
      },
      "source": [
        "## Assignment Part:4 - BERT Tokenizer\n",
        "##### <font color='red'>Expected vocab: 1.000, coverage: 85.46%</font>\n",
        "##### <font color='red'>Expected vocab: 10.000, coverage: 100%</font>\n",
        "\n",
        "BERT tokenizer provided by the hugging face library."
      ]
    },
    {
      "cell_type": "code",
      "metadata": {
        "id": "PYNEK_eNCvTJ",
        "colab": {
          "base_uri": "https://localhost:8080/",
          "height": 240,
          "referenced_widgets": [
            "ed1b7540d22e4d5ca9ba88afb73dd557",
            "3c425dd2712e46d7a2f8e9bb7bfb348d",
            "1f16d7f45b8a4d37b6918d1875c52f2d",
            "c889491597584e07a73792ffef03b179",
            "bfaa41c88ecd4091b6742aef68e5c7b4",
            "e70838d59927400691bdf9d0bcfbce60",
            "58974d1e41164a308b9fca31ae5d2de8",
            "69c1f42e22d84b6bad1a95b29ad15983",
            "0d7e9c61cc244de593e1bb61b1d25415",
            "95778dcc16ad49318e5fc0e2a0bfb4fa",
            "ed3cb8d693db48fb9110f033d16cbdf6",
            "53969b5bb6d64e3fac244945d518ce1b",
            "ffe2119695ab40788dce58c6e5054c12",
            "2e1f68bccd734000adde494e91857f8b",
            "116e4eb461d74c8184cb1f1644f34c22",
            "a82d5d4a54634d1f9e7d4787a15f4951",
            "e1eb07950c854bfb875be649eed0a8a7",
            "cd9477b7504b44c2a201fb25344b95d5",
            "483ff8e56b0e420f82e61ebaa7fd1f9f",
            "7182f3e566924a1eaa50b5249c238a18",
            "c294f91a54a746cb96e8d694e10043cb",
            "53aae2e4571a4b07ade34383683b18dd",
            "0e16cd58bee249bc80241d27a777cd66",
            "9675f8ff60f64e7299dfafbc893ee4c4",
            "9d6ecc4b99cf485bb8b97bf8039808fd",
            "5df30cc2bbf44230bd882a3962e4125b",
            "69764f368be74a48a14624af0d985088",
            "7c32cbc980f541098473e4f3c46dbad6",
            "ee6d47a6444f4df2994e0b413dd90410",
            "12064a3446074c7699c6aad032cf4c28",
            "01b688a9bd2548799654512192921873",
            "eef213b45aa542afb7bb66fd7f3fe83f",
            "e24d48347acb4c4f821fe1c276f4e858"
          ]
        },
        "outputId": "d36c0a8a-ff5d-4737-f76d-39070428b77b"
      },
      "source": [
        "class BERTTokenizer(Tokenizer):\n",
        "  def __init__(self, tokenizer, lines):\n",
        "    self.tokenizer = tokenizer\n",
        "    super(BERTTokenizer, self).__init__(lines)\n",
        "\n",
        "  def tokenize(self, sentence):\n",
        "    ### TO BE IMPLEMENTED ###\n",
        "    output = self.tokenizer.tokenize(sentence)\n",
        "    ### TO BE IMPLEMENTED ###\n",
        "    \n",
        "    return output\n",
        "\n",
        "raw_bert_tokenizer = BertTokenizer.from_pretrained(\"bert-base-uncased\")\n",
        "bert_tokenizer = BERTTokenizer(raw_bert_tokenizer, lines)\n",
        "assert bert_tokenizer.tokenize(SAMPLE_SENTENCE) == ['i', \"'\", 'm', 'learning', 'nl', '##p', '.', 'aren', \"'\", 't', 'my', 'projects', 'awesome', '?'], bert_tokenizer.tokenize(SAMPLE_SENTENCE)\n",
        "bert_tokenizer.coverage_report(THRESHOLDS)"
      ],
      "execution_count": null,
      "outputs": [
        {
          "output_type": "display_data",
          "data": {
            "text/plain": [
              "Downloading vocab.txt:   0%|          | 0.00/226k [00:00<?, ?B/s]"
            ],
            "application/vnd.jupyter.widget-view+json": {
              "version_major": 2,
              "version_minor": 0,
              "model_id": "ed1b7540d22e4d5ca9ba88afb73dd557"
            }
          },
          "metadata": {}
        },
        {
          "output_type": "display_data",
          "data": {
            "text/plain": [
              "Downloading tokenizer_config.json:   0%|          | 0.00/28.0 [00:00<?, ?B/s]"
            ],
            "application/vnd.jupyter.widget-view+json": {
              "version_major": 2,
              "version_minor": 0,
              "model_id": "53969b5bb6d64e3fac244945d518ce1b"
            }
          },
          "metadata": {}
        },
        {
          "output_type": "display_data",
          "data": {
            "text/plain": [
              "Downloading config.json:   0%|          | 0.00/570 [00:00<?, ?B/s]"
            ],
            "application/vnd.jupyter.widget-view+json": {
              "version_major": 2,
              "version_minor": 0,
              "model_id": "0e16cd58bee249bc80241d27a777cd66"
            }
          },
          "metadata": {}
        },
        {
          "output_type": "stream",
          "name": "stdout",
          "text": [
            "For vocab size: 1000, coverage is: 85.46% and oov is: 14.54%\n",
            "For vocab size: 2000, coverage is: 92.11% and oov is: 7.89%\n",
            "For vocab size: 3000, coverage is: 95.61% and oov is: 4.39%\n",
            "For vocab size: 4000, coverage is: 97.51% and oov is: 2.49%\n",
            "For vocab size: 5000, coverage is: 99.04% and oov is: 0.96%\n",
            "For vocab size: 7500, coverage is: 100.00% and oov is: 0.00%\n",
            "For vocab size: 10000, coverage is: 100.00% and oov is: 0.00%\n"
          ]
        }
      ]
    },
    {
      "cell_type": "markdown",
      "metadata": {
        "id": "bdls0YKBFL-F"
      },
      "source": [
        "## Assignment Part:5 - SentencePieceTokenizer\n",
        "##### <font color='red'>Expected vocab: 1.000, coverage: 99.87%</font>\n",
        "##### <font color='red'>Expected vocab: 10.000, coverage: 100%</font>\n",
        "\n",
        "SentencePiece tokenizer works a bit differently from everything we've used so far. It needs to be trained with a vocabulary and a target size. "
      ]
    },
    {
      "cell_type": "code",
      "metadata": {
        "id": "YBcbz02pFPf4",
        "colab": {
          "base_uri": "https://localhost:8080/"
        },
        "outputId": "2bce3c6b-a5eb-41e1-d7d8-6d09e8ce0b57"
      },
      "source": [
        "class SentencePieceTokenizer(Tokenizer):\n",
        "  def __init__(self, lines):\n",
        "    self.lines = lines\n",
        "    spm.SentencePieceTrainer.train(input='botchan.txt', model_prefix='m', vocab_size=4000)\n",
        "    self.sp = spm.SentencePieceProcessor()\n",
        "    self.sp.load('m.model')\n",
        "\n",
        "  def tokenize(self, sentence):\n",
        "    ### TO BE IMPLEMENTED ###\n",
        "    output = self.sp.encode_as_pieces(sentence)\n",
        "    ### TO BE IMPLEMENTED ###\n",
        "    \n",
        "    return output\n",
        "\n",
        "  def coverage(self, threshold):\n",
        "    # Train a new SentencePiece tokenizer for the threshold provided\n",
        "    try:\n",
        "      spm.SentencePieceTrainer.train(input='botchan.txt', model_prefix=f'm{threshold}', vocab_size=threshold)\n",
        "    except RuntimeError:\n",
        "      # Vocabulary size > 5239 raises a runtime error\n",
        "      return 1.0 \n",
        "\n",
        "    sp = spm.SentencePieceProcessor()\n",
        "    # Load our recently trained model\n",
        "    sp.load(f'm{threshold}.model')\n",
        "\n",
        "    # Count the number of times UNK (id=0) was assigned in the entire dataset from the model\n",
        "    total = 0\n",
        "    unk = 0\n",
        "    for line in self.lines:\n",
        "      ids = sp.encode_as_ids(line)\n",
        "      unk += ids.count(0)\n",
        "      total += len(ids)\n",
        "    return (total - unk) / total\n",
        "\n",
        "sp_tokenizer = SentencePieceTokenizer(lines)\n",
        "assert sp_tokenizer.tokenize(SAMPLE_SENTENCE) == ['▁I', \"'\", 'm', '▁learn', 'ing', '▁N', 'L', 'P', '.', '▁A', 'ren', \"'\", 't', '▁my', '▁pro', 'j', 'e', 'c', 't', 's', '▁awe', 'some', '?'], sp_tokenizer.tokenize(SAMPLE_SENTENCE)\n",
        "sp_tokenizer.coverage_report(THRESHOLDS)"
      ],
      "execution_count": null,
      "outputs": [
        {
          "output_type": "stream",
          "name": "stdout",
          "text": [
            "For vocab size: 1000, coverage is: 99.87% and oov is: 0.13%\n",
            "For vocab size: 2000, coverage is: 99.85% and oov is: 0.15%\n",
            "For vocab size: 3000, coverage is: 99.84% and oov is: 0.16%\n",
            "For vocab size: 4000, coverage is: 99.83% and oov is: 0.17%\n",
            "For vocab size: 5000, coverage is: 99.83% and oov is: 0.17%\n",
            "For vocab size: 7500, coverage is: 100.00% and oov is: 0.00%\n",
            "For vocab size: 10000, coverage is: 100.00% and oov is: 0.00%\n"
          ]
        }
      ]
    },
    {
      "cell_type": "markdown",
      "metadata": {
        "id": "6ksluayoLPIq"
      },
      "source": [
        "As you see the OOV% is really low but at the same time it increased a bit when \n",
        "\n",
        "---\n",
        "\n",
        "we increased a vocabulary size. An intuitive way to think about this is that in smaller vocabularies the algorithm trains to something closer to character embeddings as we give it a bit larger size it tries to learn more language semantics and trades off some vocabulary coverage."
      ]
    },
    {
      "cell_type": "markdown",
      "metadata": {
        "id": "e18CnCtdMgIS"
      },
      "source": [
        "🎉 WOOHOOO we've covered the part 1 of this week. Let's keep making progress and proceed to the Generation notebook. But do come back to try out some of the extensions.\n",
        "\n",
        "# Extensions\n",
        "\n",
        "Now that you've worked through the part 1 of the project there is a lot more for us to try:\n",
        "\n",
        "- Try the new tokenizers in the Week 1 EmbeddingBag model?\n",
        "- Similarly change the tokenizer in the Week 2 LSTM?\n",
        "- Compare the tokenizers on a non-english language data?"
      ]
    }
  ]
}